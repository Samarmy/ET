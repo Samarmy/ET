{
 "cells": [
  {
   "cell_type": "code",
   "execution_count": 115,
   "metadata": {},
   "outputs": [],
   "source": [
    "import math\n",
    "class Number(float):\n",
    "    \n",
    "    def __new__(self, value):\n",
    "        return float.__new__(self, value)\n",
    "    \n",
    "    def __init__(self, value):\n",
    "        float.__init__(value)\n",
    "        \n",
    "    def multiply(self, value):\n",
    "        return Number(self * value)\n",
    "    \n",
    "    def divide(self, value):\n",
    "        return Number(self / value)\n",
    "    \n",
    "    def add(self, value):\n",
    "        return Number(self + value)\n",
    "    \n",
    "    def subtract(self, value):\n",
    "        return Number(self - value)\n",
    "    \n",
    "    def pow(self, value):\n",
    "        return Number(self ** value)\n",
    "    \n",
    "    def log(self):\n",
    "        return Number(math.log(self))\n",
    "    \n",
    "    def exp(self):\n",
    "        return Number(math.exp(self))\n",
    "    \n",
    "    def sin(self):\n",
    "        return Number(math.sin(self))\n",
    "    \n",
    "    def cos(self):\n",
    "        return Number(math.cos(self))\n",
    "    \n",
    "    def tan(self):\n",
    "        return Number(math.tan(self))\n",
    "    \n",
    "    def sinh(self):\n",
    "        return Number(math.sinh(self))\n",
    "    \n",
    "    def cosh(self):\n",
    "        return Number(math.cosh(self))\n",
    "    \n",
    "    def tanh(self):\n",
    "        return Number(math.tanh(self))\n",
    "    \n",
    "    def asin(self):\n",
    "        return Number(math.asin(self))\n",
    "    \n",
    "    def acos(self):\n",
    "        return Number(math.acos(self))\n",
    "    \n",
    "    def atan(self):\n",
    "        return Number(math.atan(self))\n",
    "    \n",
    "    def mod(self, value):\n",
    "        return Number(self % value)\n",
    "    \n",
    "    def max(self, value):\n",
    "        return Number(max(self, value))\n",
    "    \n",
    "    def min(self, value):\n",
    "        return Number(min(self, value))\n",
    "    \n",
    "    def sqrt(self):\n",
    "        return Number(math.sqrt(self))\n",
    "    \n",
    "    def lt(self, value):\n",
    "        return Number(self < value)\n",
    "    \n",
    "    def gt(self, value):\n",
    "        return Number(self > value)\n",
    "    \n",
    "    def lte(self, value):\n",
    "        return Number(self <= value)\n",
    "    \n",
    "    def gte(self, value):\n",
    "        return Number(self >= value)\n",
    "    \n",
    "    def where(self, test, value):\n",
    "        output = 0\n",
    "        if (test != 0):\n",
    "            return Number(value)\n",
    "        else:\n",
    "            return self"
   ]
  },
  {
   "cell_type": "code",
   "execution_count": 116,
   "metadata": {},
   "outputs": [],
   "source": [
    "def _air_pressure(elev, method='asce'):\n",
    "    if method == 'asce':\n",
    "        return elev.multiply(-0.0065).add(293).divide(293).pow(5.26).multiply(101.3)\n",
    "    elif method == 'refet':\n",
    "        return elev.multiply(-0.0065).add(293).divide(293).pow(9.8 / (0.0065 * 286.9)).multiply(101.3)"
   ]
  },
  {
   "cell_type": "code",
   "execution_count": 117,
   "metadata": {},
   "outputs": [],
   "source": [
    "def _sat_vapor_pressure(temperature):\n",
    "    return temperature.add(237.3).pow(-1).multiply(temperature).multiply(17.27).exp().multiply(0.6108)"
   ]
  },
  {
   "cell_type": "code",
   "execution_count": 118,
   "metadata": {},
   "outputs": [],
   "source": [
    "def _es_slope(tmean, method='asce'):\n",
    "    if method == 'refet':\n",
    "        return _sat_vapor_pressure(tmean).multiply(4098.0).divide(tmean.add(237.3).pow(2))\n",
    "    elif method == 'asce':\n",
    "        return tmean.add(237.3).pow(-1).multiply(tmean).multiply(17.27).exp().multiply(2503.0).divide(tmean.add(237.3).pow(2))"
   ]
  },
  {
   "cell_type": "code",
   "execution_count": 119,
   "metadata": {},
   "outputs": [],
   "source": [
    "def _actual_vapor_pressure(q, pair):\n",
    "    return q.multiply(0.378).add(0.622).pow(-1).multiply(q).multiply(pair)"
   ]
  },
  {
   "cell_type": "code",
   "execution_count": 120,
   "metadata": {},
   "outputs": [],
   "source": [
    "def _specific_humidity(ea, pair):\n",
    "    return ea.multiply(-0.378).add(pair).pow(-1).multiply(ea).multiply(0.622)"
   ]
  },
  {
   "cell_type": "code",
   "execution_count": 121,
   "metadata": {},
   "outputs": [],
   "source": [
    "def _vpd(es, ea):\n",
    "    return es.subtract(ea).max(0)"
   ]
  },
  {
   "cell_type": "code",
   "execution_count": 122,
   "metadata": {},
   "outputs": [],
   "source": [
    "def _precipitable_water(ea, pair):\n",
    "    return ea.multiply(pair).multiply(0.14).add(2.1)"
   ]
  },
  {
   "cell_type": "code",
   "execution_count": 123,
   "metadata": {},
   "outputs": [],
   "source": [
    "def _doy_fraction(doy):\n",
    "    return doy.multiply(2.0 * math.pi / 365)"
   ]
  },
  {
   "cell_type": "code",
   "execution_count": 124,
   "metadata": {},
   "outputs": [],
   "source": [
    "def _delta(doy, method='asce'):\n",
    "    if method == 'asce':\n",
    "        return _doy_fraction(doy).subtract(1.39).sin().multiply(0.409)\n",
    "    else:\n",
    "        return doy.add(284).multiply(2 * math.pi / 365).sin().multiply(23.45 * (math.pi / 180))"
   ]
  },
  {
   "cell_type": "code",
   "execution_count": 125,
   "metadata": {},
   "outputs": [],
   "source": [
    "def _dr(doy):\n",
    "    return _doy_fraction(doy).cos().multiply(0.033).add(1.0)"
   ]
  },
  {
   "cell_type": "code",
   "execution_count": 126,
   "metadata": {},
   "outputs": [],
   "source": [
    "def _seasonal_correction(doy):\n",
    "    b = doy.subtract(81).divide(364.0).multiply(2 * math.pi)\n",
    "    return b.multiply(2).sin().multiply(0.1645).subtract(b.cos().multiply(0.1255)).subtract(b.sin().multiply(0.0250))"
   ]
  },
  {
   "cell_type": "code",
   "execution_count": 127,
   "metadata": {},
   "outputs": [],
   "source": [
    "def _solar_time_rad(lon, time_mid, sc):\n",
    "    return lon.multiply(24 / (2 * math.pi)).add(time_mid).add(sc).subtract(12)"
   ]
  },
  {
   "cell_type": "code",
   "execution_count": 128,
   "metadata": {},
   "outputs": [],
   "source": [
    "def _omega(solar_time):\n",
    "    omega = solar_time.multiply(2 * math.pi / 24.0)\n",
    "    omega = _wrap(omega, -math.pi, math.pi)\n",
    "    return omega"
   ]
  },
  {
   "cell_type": "code",
   "execution_count": 129,
   "metadata": {},
   "outputs": [],
   "source": [
    "def _wrap(x, x_min, x_max):\n",
    "    x_range = x_max - x_min\n",
    "    return x.subtract(x_min).mod(x_range).add(x_range).mod(x_range).add(x_min)"
   ]
  },
  {
   "cell_type": "code",
   "execution_count": 130,
   "metadata": {},
   "outputs": [],
   "source": [
    "def _omega_sunset(lat, delta):\n",
    "    return lat.tan().multiply(-1).multiply(delta.tan()).acos()"
   ]
  },
  {
   "cell_type": "code",
   "execution_count": 131,
   "metadata": {},
   "outputs": [],
   "source": [
    "def _ra_daily(lat, doy, method='asce'):\n",
    "    delta = _delta(doy, method)\n",
    "    omegas = _omega_sunset(lat, delta)\n",
    "    theta = omegas.multiply(lat.sin()).multiply(delta.sin()).add(lat.cos().multiply(delta.cos()).multiply(omegas.sin()))\n",
    "\n",
    "    if method == 'asce':\n",
    "        ra = theta.multiply(_dr(doy)).multiply((24. / math.pi) * 4.92)\n",
    "    else:\n",
    "        ra = theta.multiply(_dr(doy)).multiply((24. / math.pi) * (1367 * 0.0036))\n",
    "    return ra"
   ]
  },
  {
   "cell_type": "code",
   "execution_count": 132,
   "metadata": {},
   "outputs": [],
   "source": [
    "def _ra_hourly(lat, lon, doy, time_mid, method='asce'):\n",
    "    omega = _omega(_solar_time_rad(lon, time_mid, _seasonal_correction(doy)))\n",
    "    delta = _delta(doy, method)\n",
    "    omegas = _omega_sunset(lat, delta)\n",
    "\n",
    "    omega1 = omega.subtract(math.pi / 24).max(omegas.multiply(-1)).min(omegas)\n",
    "    omega2 = omega.add(math.pi / 24).max(omegas.multiply(-1)).min(omegas)\n",
    "    omega1 = omega1.min(omega2)\n",
    "\n",
    "    theta = omega2.subtract(omega1).multiply(lat.sin()).multiply(delta.sin()).add(lat.cos().multiply(delta.cos()).multiply(omega2.sin().subtract(omega1.sin())))\n",
    "    if method == 'asce':\n",
    "        ra = theta.multiply(_dr(doy)).multiply((12. / math.pi) * 4.92)\n",
    "    else:\n",
    "        ra = theta.multiply(_dr(doy)).multiply((12. / math.pi) * (1367 * 0.0036))\n",
    "    return ra"
   ]
  },
  {
   "cell_type": "code",
   "execution_count": 133,
   "metadata": {},
   "outputs": [],
   "source": [
    "def _rso_daily(ea, ra, pair, doy, lat):\n",
    "    sin_beta_24 = _doy_fraction(doy).subtract(1.39).sin().multiply(lat).multiply(0.3).add(0.85).subtract(lat.pow(2).multiply(0.42)).sin().max(0.1)\n",
    "\n",
    "    w = _precipitable_water(ea, pair)\n",
    "\n",
    "    kb = w.divide(sin_beta_24).pow(0.4).multiply(-0.075).add(pair.multiply(-0.00146).divide(sin_beta_24)).exp().multiply(0.98)\n",
    "\n",
    "    kd = kb.multiply(-0.36).add(0.35).min(kb.multiply(0.82).add(0.18))\n",
    "\n",
    "    rso = kb.add(kd).multiply(ra)\n",
    "    return rso"
   ]
  },
  {
   "cell_type": "code",
   "execution_count": 134,
   "metadata": {},
   "outputs": [],
   "source": [
    "def _rso_hourly(ea, ra, pair, doy, time_mid, lat, lon, method='asce'):\n",
    "    sc = _seasonal_correction(doy)\n",
    "    omega = _omega(_solar_time_rad(lon, time_mid, sc))\n",
    "\n",
    "    delta = _delta(doy, method)\n",
    "    sin_beta = lat.sin().multiply(delta.sin()).add(lat.cos().multiply(delta.cos()).multiply(omega.cos()))\n",
    "\n",
    "    w = _precipitable_water(ea, pair)\n",
    "\n",
    "    kt = 1.0\n",
    "    kb = w.divide(sin_beta.max(0.01)).pow(0.4).multiply(-0.075).add(pair.multiply(-0.00146).divide(sin_beta.max(0.01).multiply(kt))).exp().multiply(0.98)\n",
    "\n",
    "    kd = kb.multiply(-0.36).add(0.35).min(kb.multiply(0.82).add(0.18))\n",
    "\n",
    "    rso = kb.add(kd).multiply(ra)\n",
    "    return rso"
   ]
  },
  {
   "cell_type": "code",
   "execution_count": 135,
   "metadata": {},
   "outputs": [],
   "source": [
    "def _rso_simple(ra, elev):\n",
    "    return ra.multiply(elev.multiply(2E-5).add(0.75))"
   ]
  },
  {
   "cell_type": "code",
   "execution_count": 136,
   "metadata": {},
   "outputs": [],
   "source": [
    "def _fcd_daily(rs, rso):\n",
    "    return rs.divide(rso).max(0.3).min(1.0).multiply(1.35).subtract(0.35)"
   ]
  },
  {
   "cell_type": "code",
   "execution_count": 137,
   "metadata": {},
   "outputs": [],
   "source": [
    "def _fcd_hourly(rs, rso, doy, time_mid, lat, lon, method='asce'):\n",
    "    sc = _seasonal_correction(doy)\n",
    "    delta = _delta(doy, method)\n",
    "    omega = _omega(_solar_time_rad(lon, time_mid, sc))\n",
    "    beta = lat.sin().multiply(delta.sin()).add(lat.cos().multiply(delta.cos()).multiply(omega.cos())).asin()\n",
    "\n",
    "    fcd = rs.divide(rso).max(0.3).min(1).multiply(1.35).subtract(0.35)\n",
    "\n",
    "    fcd = fcd.max(beta.lt(0.3))\n",
    "\n",
    "    return fcd"
   ]
  },
  {
   "cell_type": "code",
   "execution_count": 138,
   "metadata": {},
   "outputs": [],
   "source": [
    "def _rnl_daily(tmax, tmin, ea, fcd):\n",
    "    return tmax.add(273.16).pow(4).add(tmin.add(273.16).pow(4)).multiply(0.5).multiply(ea.sqrt().multiply(-0.14).add(0.34)).multiply(fcd).multiply(4.901E-9)"
   ]
  },
  {
   "cell_type": "code",
   "execution_count": 139,
   "metadata": {},
   "outputs": [],
   "source": [
    "def _rnl_hourly(tmean, ea, fcd):\n",
    "    return tmean.add(273.16).pow(4).multiply(ea.sqrt().multiply(-0.14).add(0.34)).multiply(fcd).multiply(2.042E-10)"
   ]
  },
  {
   "cell_type": "code",
   "execution_count": 140,
   "metadata": {},
   "outputs": [],
   "source": [
    "def _rn(rs, rnl):\n",
    "    return rnl.multiply(-1).add(rs.multiply(0.77))"
   ]
  },
  {
   "cell_type": "code",
   "execution_count": 141,
   "metadata": {},
   "outputs": [],
   "source": [
    "def _wind_height_adjust(uz, zw):\n",
    "    return uz.multiply(4.87).divide(zw.multiply(67.8).subtract(5.42).log())"
   ]
  },
  {
   "cell_type": "code",
   "execution_count": 142,
   "metadata": {},
   "outputs": [],
   "source": [
    "def daily(tmax, tmin, ea, rs, uz, zw, elev, lat, doy, method='asce', rso_type=None, rso=None):\n",
    "    tmax = Number(tmax)\n",
    "    tmin = Number(tmin)\n",
    "    ea = Number(ea)\n",
    "    rs = Number(rs)\n",
    "    uz = Number(uz)\n",
    "    zw = Number(zw)\n",
    "    elev = Number(elev)\n",
    "    lat = Number(lat)\n",
    "    doy = Number(doy)\n",
    "    \n",
    "    lat = lat.multiply(math.pi / 180)\n",
    "\n",
    "    pair = _air_pressure(elev, method)\n",
    "\n",
    "    psy = pair.multiply(0.000665)\n",
    "\n",
    "    tmean = tmax.add(tmin).multiply(0.5)\n",
    "    es_slope = _es_slope(tmean, method)\n",
    "\n",
    "    es = _sat_vapor_pressure(tmax).add(_sat_vapor_pressure(tmin)).multiply(0.5)\n",
    "\n",
    "    vpd = _vpd(es=es, ea=ea)\n",
    "\n",
    "    ra = _ra_daily(lat=lat, doy=doy, method=method)\n",
    "\n",
    "    if rso_type is None:\n",
    "        if method.lower() == 'asce':\n",
    "            rso = _rso_simple(ra=ra, elev=elev)\n",
    "        elif method.lower() == 'refet':\n",
    "            rso = _rso_daily(ea=ea, ra=ra, pair=pair, doy=doy, lat=lat)\n",
    "    elif rso_type.lower() == 'simple':\n",
    "        rso = _rso_simple(ra=ra, elev=elev)\n",
    "    elif rso_type.lower() == 'full':\n",
    "        rso = _rso_daily(ea=ea, ra=ra, pair=pair, doy=doy, lat=lat)\n",
    "    elif rso_type.lower() == 'array':\n",
    "        rso = rso\n",
    "\n",
    "    fcd = _fcd_daily(rs=rs, rso=rso)\n",
    "\n",
    "    rnl = _rnl_daily(tmax=tmax, tmin=tmin, ea=ea, fcd=fcd)\n",
    "\n",
    "    rn = _rn(rs, rnl)\n",
    "\n",
    "    u2 = _wind_height_adjust(uz=uz, zw=zw)\n",
    "    \n",
    "    cn = 1600\n",
    "    cd = 0.38\n",
    "    \n",
    "    return tmean.add(273).pow(-1).multiply(u2).multiply(vpd).multiply(cn).multiply(psy).add(es_slope.multiply(rn).multiply(0.408)).divide(u2.multiply(cd).add(1).multiply(psy).add(es_slope))"
   ]
  },
  {
   "cell_type": "code",
   "execution_count": 143,
   "metadata": {},
   "outputs": [],
   "source": [
    "def hourly(tmean, ea, rs, uz, zw, elev, lat, lon, doy, time, method='asce'):\n",
    "    tmean = Number(tmean)\n",
    "    ea = Number(ea)\n",
    "    rs = Number(rs)\n",
    "    uz = Number(uz)\n",
    "    zw = Number(zw)\n",
    "    elev = Number(elev)\n",
    "    lat = Number(lat)\n",
    "    lon = Number(lon)\n",
    "    doy = Number(doy)\n",
    "    time = Number(time)\n",
    "    \n",
    "    lat = lat.multiply(math.pi / 180)\n",
    "    lon = lon.multiply(math.pi / 180)\n",
    "\n",
    "    pair = _air_pressure(elev, method=method)\n",
    "\n",
    "    psy = pair.multiply(0.000665)\n",
    "\n",
    "    es = _sat_vapor_pressure(tmean)\n",
    "    es_slope = _es_slope(tmean, method)\n",
    "\n",
    "    vpd = es.subtract(ea)\n",
    "\n",
    "    time_mid = time.add(0.5)\n",
    "    ra = _ra_hourly(lat=lat, lon=lon, doy=doy, time_mid=time_mid, method=method)\n",
    "\n",
    "    if method == 'asce':\n",
    "        rso = _rso_simple(ra=ra, elev=elev)\n",
    "    elif method == 'refet':\n",
    "        rso = _rso_hourly(ea=ea, ra=ra, pair=pair, doy=doy, time_mid=time_mid, lat=lat, lon=lon, method=method)\n",
    "\n",
    "    fcd = _fcd_hourly(rs=rs, rso=rso, doy=doy, time_mid=time, lat=lat, lon=lon, method=method)\n",
    "\n",
    "    rnl = _rnl_hourly(tmean=tmean, ea=ea, fcd=fcd)\n",
    "\n",
    "    rn = _rn(rs, rnl)\n",
    "\n",
    "    u2 = _wind_height_adjust(uz=uz, zw=zw)\n",
    "    \n",
    "    cn = 66.0\n",
    "    cd_day = 0.25\n",
    "    g_rn_day = 0.04\n",
    "    cd_night = 1.7\n",
    "    g_rn_night = 0.2\n",
    "\n",
    "    cd = rn.multiply(0).add(cd_day).where(rn.lt(0), cd_night)\n",
    "    g_rn = rn.multiply(0).add(g_rn_day).where(rn.lt(0), g_rn_night)\n",
    "\n",
    "    g = rn.multiply(g_rn)\n",
    "    \n",
    "    return (0.408 * es_slope * (rn - g) + (psy * cn * u2 * vpd / (tmean + 273))) / (es_slope + psy * (cd * u2 + 1))"
   ]
  },
  {
   "cell_type": "code",
   "execution_count": 110,
   "metadata": {},
   "outputs": [],
   "source": [
    "tmin = (66.65 - 32) * (5.0 / 9)                          \n",
    "tmax = (102.80 - 32) * (5.0 / 9)                         \n",
    "tdew_c = (57.26 - 32) * (5.0 / 9)                          \n",
    "ea = 0.6108 * math.exp(17.27 * tdew_c / (tdew_c + 237.3))  \n",
    "rs = (674.07 * 0.041868)                                   \n",
    "uz = 4.80 * 0.44704                                        \n",
    "zw = 3\n",
    "elev=1208.5\n",
    "lat = 39.4575                                              \n",
    "doy=182"
   ]
  },
  {
   "cell_type": "code",
   "execution_count": 111,
   "metadata": {},
   "outputs": [
    {
     "data": {
      "text/plain": [
       "10.154973542803278"
      ]
     },
     "execution_count": 111,
     "metadata": {},
     "output_type": "execute_result"
    }
   ],
   "source": [
    "daily(tmin=tmin, tmax=tmax, ea=ea, rs=rs, uz=uz, zw=zw, elev=elev, lat=lat, doy=doy)"
   ]
  },
  {
   "cell_type": "code",
   "execution_count": 144,
   "metadata": {},
   "outputs": [],
   "source": [
    "tmean = (91.80 - 32) * (5.0 / 9)          \n",
    "ea = 1.20                                   \n",
    "rs = (61.16 * 0.041868)                     \n",
    "uz = 3.33 * 0.44704  \n",
    "zw = 3\n",
    "elev = 1208.5\n",
    "lat = 39.4575                               \n",
    "lon = -118.77388   \n",
    "doy=182\n",
    "time=18"
   ]
  },
  {
   "cell_type": "code",
   "execution_count": 145,
   "metadata": {},
   "outputs": [
    {
     "data": {
      "text/plain": [
       "0.7196147004952785"
      ]
     },
     "execution_count": 145,
     "metadata": {},
     "output_type": "execute_result"
    }
   ],
   "source": [
    "hourly(tmean=tmean, ea=ea, rs=rs, uz=uz, zw=zw, elev=elev, lat=lat, lon=lon, doy=doy, time=time)"
   ]
  }
 ],
 "metadata": {
  "kernelspec": {
   "display_name": "Python 3",
   "language": "python",
   "name": "python3"
  },
  "language_info": {
   "codemirror_mode": {
    "name": "ipython",
    "version": 3
   },
   "file_extension": ".py",
   "mimetype": "text/x-python",
   "name": "python",
   "nbconvert_exporter": "python",
   "pygments_lexer": "ipython3",
   "version": "3.7.4"
  }
 },
 "nbformat": 4,
 "nbformat_minor": 4
}
